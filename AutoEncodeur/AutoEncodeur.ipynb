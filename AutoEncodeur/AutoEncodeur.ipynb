{
 "cells": [
  {
   "cell_type": "markdown",
   "id": "fda09ef0",
   "metadata": {},
   "source": [
    "Nom et prénom : Nguyen Quynh Nhu HO\n",
    "<p>Groupe : LBD</p>"
   ]
  },
  {
   "cell_type": "markdown",
   "id": "e2e53988",
   "metadata": {},
   "source": [
    "<div style=\"text-align:center; color:red\">\n",
    "    <h1>L'auto-encodeur avec Keras</h1>\n",
    "</div>\n"
   ]
  },
  {
   "cell_type": "markdown",
   "id": "3fc21102",
   "metadata": {},
   "source": [
    "<h2>Introduction</h2>"
   ]
  },
  {
   "cell_type": "markdown",
   "id": "4236136c",
   "metadata": {},
   "source": [
    "Le jeu de données Fashion MNIST est un ensemble couramment utilisé pour la classification d'images en apprentissage automatique. Il présente les caractéristiques suivantes :\n",
    "\n",
    "- **Taille du jeu de données d'entraînement :** 60000 images\n",
    "- **Taille du jeu de données de test :** 10000 images\n",
    "- **Dimensions des images :** Images en niveaux de gris 28x28 pixels\n",
    "\n",
    "Chaque image mesure 28 pixels de hauteur et 28 pixels de largeur, pour un total de 784 pixels au total. Chaque pixel est associé à une seule valeur de pixel, indiquant la luminosité ou l'obscurité de ce pixel, les nombres plus élevés signifiant plus sombre. Cette valeur de pixel est un entier compris entre 0 et 255. Les ensembles de données d'entraînement et de test comportent 785 colonnes.\n"
   ]
  },
  {
   "cell_type": "markdown",
   "id": "78baf291",
   "metadata": {},
   "source": [
    "<h2>1. Chargement des données Fashion-MNIST</h2>"
   ]
  },
  {
   "cell_type": "code",
   "execution_count": 1,
   "id": "30c39713",
   "metadata": {},
   "outputs": [
    {
     "name": "stdout",
     "output_type": "stream",
     "text": [
      "WARNING:tensorflow:From C:\\Users\\33766\\anaconda3\\lib\\site-packages\\keras\\src\\losses.py:2976: The name tf.losses.sparse_softmax_cross_entropy is deprecated. Please use tf.compat.v1.losses.sparse_softmax_cross_entropy instead.\n",
      "\n"
     ]
    }
   ],
   "source": [
    "from IPython.display import Image\n",
    "import keras\n",
    "import numpy as np\n",
    "import matplotlib.pyplot as plt\n",
    "%matplotlib inline\n",
    "from keras.datasets import mnist\n",
    "from keras import regularizers\n",
    "import tensorflow as tf\n",
    "import warnings\n",
    "warnings.filterwarnings(\"ignore\")"
   ]
  },
  {
   "cell_type": "markdown",
   "id": "8a5863d7",
   "metadata": {},
   "source": [
    "**Lecture le jeu de données**"
   ]
  },
  {
   "cell_type": "code",
   "execution_count": 2,
   "id": "607884eb",
   "metadata": {},
   "outputs": [],
   "source": [
    "(x_train, y_train), (x_test, y_test) = tf.keras.datasets.fashion_mnist.load_data()"
   ]
  },
  {
   "cell_type": "code",
   "execution_count": 3,
   "id": "b413c657",
   "metadata": {},
   "outputs": [],
   "source": [
    "# Train - Test split\n",
    "assert x_train.shape == (60000, 28, 28)\n",
    "assert x_test.shape == (10000, 28, 28)\n",
    "assert y_train.shape == (60000,)\n",
    "assert y_test.shape == (10000,) "
   ]
  },
  {
   "cell_type": "code",
   "execution_count": 4,
   "id": "5fa94de1",
   "metadata": {},
   "outputs": [
    {
     "name": "stdout",
     "output_type": "stream",
     "text": [
      "x_train shape -->  (60000, 28, 28)\n",
      "y_train shape -->  (60000,)\n",
      "x_test shape -->  (10000, 28, 28)\n",
      "y_test shape -->  (10000,)\n"
     ]
    }
   ],
   "source": [
    "print('x_train shape --> ', x_train.shape)\n",
    "print('y_train shape --> ', y_train.shape)\n",
    "print('x_test shape --> ', x_test.shape)\n",
    "print('y_test shape --> ', y_test.shape)"
   ]
  },
  {
   "cell_type": "markdown",
   "id": "49441c89",
   "metadata": {},
   "source": [
    "**Normalisation et vertorisation des images**\n",
    "<p>Les images de taille 28x28 sont normailisées entre 0 et 1 puis vectorisées afin d'être représentées en entrée comme un vecteur de 784 coefficients.</p>\n",
    "<p><strong>Pourquoi voulons-nous normaliser les images?</strong> Les images sont représentées par des valeurs comprises entre 0 et 255. Si nous ne normalisons pas, il peut s'agir d'erreurs dues à certaines couleurs. Nous devons dons d'abord normaliser avant le modèle.\n",
    "</p>"
   ]
  },
  {
   "cell_type": "code",
   "execution_count": 5,
   "id": "de0de873",
   "metadata": {},
   "outputs": [],
   "source": [
    "# Normalisation des images\n",
    "x_train = x_train.astype('float32')/255.\n",
    "x_test = x_test.astype('float32')/255.\n",
    "\n",
    "# Vectorisation des images 28x28 en vecteur de 784 coeffs\n",
    "x_train = x_train.reshape((len(x_train), np.prod(x_train.shape[1:])))\n",
    "x_test = x_test.reshape((len(x_test), np.prod(x_test.shape[1:])))"
   ]
  },
  {
   "cell_type": "code",
   "execution_count": 6,
   "id": "bab65ad0",
   "metadata": {},
   "outputs": [
    {
     "name": "stdout",
     "output_type": "stream",
     "text": [
      "x_train shape -->  (60000, 784)\n",
      "x_test shape -->  (10000, 784)\n"
     ]
    }
   ],
   "source": [
    "print('x_train shape --> ', x_train.shape)\n",
    "print('x_test shape --> ', x_test.shape)"
   ]
  },
  {
   "cell_type": "markdown",
   "id": "6edffcef",
   "metadata": {},
   "source": [
    "<h2>2. Autoencodeur avec une seule couche caché</h2>"
   ]
  },
  {
   "cell_type": "code",
   "execution_count": 7,
   "id": "c19792e0",
   "metadata": {},
   "outputs": [],
   "source": [
    "from keras.models import Model\n",
    "#from keras import layers\n",
    "from keras.layers import Input, Dense"
   ]
  },
  {
   "cell_type": "code",
   "execution_count": 8,
   "id": "4db1654b",
   "metadata": {},
   "outputs": [
    {
     "name": "stdout",
     "output_type": "stream",
     "text": [
      "WARNING:tensorflow:From C:\\Users\\33766\\anaconda3\\lib\\site-packages\\keras\\src\\backend.py:1398: The name tf.executing_eagerly_outside_functions is deprecated. Please use tf.compat.v1.executing_eagerly_outside_functions instead.\n",
      "\n"
     ]
    }
   ],
   "source": [
    "# Taille du code dans l'espace latent\n",
    "taille_code = 32\n",
    "# Image d'entrée\n",
    "input_img = Input(shape = (784,))\n",
    "# Encoder\n",
    "encoded = Dense(taille_code, activation ='relu')(input_img)\n",
    "# Decoder\n",
    "decoded = Dense(784, activation='sigmoid')(encoded)"
   ]
  },
  {
   "cell_type": "markdown",
   "id": "318b519d",
   "metadata": {},
   "source": [
    "<h3>2.1 Définition des modèles de l'encodeur et du décodeur</h3>"
   ]
  },
  {
   "cell_type": "code",
   "execution_count": 9,
   "id": "5802acf8",
   "metadata": {},
   "outputs": [],
   "source": [
    "# Modele pour l'autoencodeur\n",
    "autoencoder = Model(input_img, decoded)"
   ]
  },
  {
   "cell_type": "code",
   "execution_count": 10,
   "id": "ca53b250",
   "metadata": {},
   "outputs": [],
   "source": [
    "# Modèle d'encodeur sur les données d'entrée pour obtenir le code\n",
    "encoder = Model(input_img, encoded)"
   ]
  },
  {
   "cell_type": "code",
   "execution_count": 11,
   "id": "1ecbf805",
   "metadata": {},
   "outputs": [],
   "source": [
    "# Entrée du décodeur : code dans l'espace latent\n",
    "encoded_input = Input(shape=(taille_code,))\n",
    "# Recupérer la dernière couche de l'autocodeur\n",
    "decoder_layer = autoencoder.layers[-1]\n",
    "# Modele du decodeur\n",
    "decoder = Model(encoded_input, decoder_layer(encoded_input))"
   ]
  },
  {
   "cell_type": "markdown",
   "id": "84625ecb",
   "metadata": {},
   "source": [
    "**Visualisation du réseau de neurones**"
   ]
  },
  {
   "cell_type": "code",
   "execution_count": 12,
   "id": "ae309ce3",
   "metadata": {},
   "outputs": [
    {
     "name": "stdout",
     "output_type": "stream",
     "text": [
      "Model: \"model\"\n",
      "_________________________________________________________________\n",
      " Layer (type)                Output Shape              Param #   \n",
      "=================================================================\n",
      " input_1 (InputLayer)        [(None, 784)]             0         \n",
      "                                                                 \n",
      " dense (Dense)               (None, 32)                25120     \n",
      "                                                                 \n",
      " dense_1 (Dense)             (None, 784)               25872     \n",
      "                                                                 \n",
      "=================================================================\n",
      "Total params: 50992 (199.19 KB)\n",
      "Trainable params: 50992 (199.19 KB)\n",
      "Non-trainable params: 0 (0.00 Byte)\n",
      "_________________________________________________________________\n"
     ]
    }
   ],
   "source": [
    "autoencoder.summary()"
   ]
  },
  {
   "cell_type": "markdown",
   "id": "618ef95b",
   "metadata": {},
   "source": [
    "<p>L'autoencodeur le modèle de base avec une seule couche cachée. Le but de cet autoencodeur est de réduire la dimensionnalité des images d'entrée à travers la couche cachée (encodeur) et de reconstruire les images d'origine à partir de cette représentation réduite (décodeur).</p>\n",
    "<p><strong>1. Couche d'entrée : </strong>\n",
    "<li><strong>'InputLayer' </strong> avec une forme de (None, 784), ce qui correspond à la dimension des images vectorisées.</li></p>\n",
    "<p><strong>2. Encodeur :</strong>\n",
    "<li>Une seule couche Dense (entièrement connecté) avec 32 neurones (la taille du code dans l'espace latent).</li>\n",
    "<li>Le nombre de pamamètre pour cette couche est 784x32+32 = 25120 où 784 est la taille de l'entrée (neurones d'entrée) et 32 est la taille du code latent.</li></p>\n",
    "<p><strong>3. Décodeur :</strong>\n",
    "<li>Une autre couche Dense avec 784 neurones (correspondant à la dimension de l'image originale).</li>\n",
    "<li>Le nombre de paramètre pour cette couche est 32x784+784 = 25872, où 32 est la taille du code latent et 784 est la taille de la sortie.</li></p>\n",
    "<p><strong>4. Total des paramètres :</strong>\n",
    "<li>Le modèle a un total de 50 992 paramètres.</li></p>\n",
    "<p><strong>5. Trainable paramètres :</strong>\n",
    "<li>Tous les paramètres sont entrainables, ce qui signifie que le modèle sera ajusté pendant l'entraînement.</li><p>\n",
    "<p><strong>En résumé :</strong> L'autoencodeur a une architecture avec une couche d'entrée, une couche cachée (encodeur), et une couche de sortie (décodeur). La taille du code latent est de 32, et le modèle a un nombre total de paramètre de 50 992.</p>"
   ]
  },
  {
   "cell_type": "markdown",
   "id": "2c61dd19",
   "metadata": {},
   "source": [
    "<h3>2.2 Apprentissage et évaluation de la performance du modèle</h3>"
   ]
  },
  {
   "cell_type": "code",
   "execution_count": 13,
   "id": "1b7c1cbd",
   "metadata": {},
   "outputs": [
    {
     "name": "stdout",
     "output_type": "stream",
     "text": [
      "WARNING:tensorflow:From C:\\Users\\33766\\anaconda3\\lib\\site-packages\\keras\\src\\optimizers\\__init__.py:309: The name tf.train.Optimizer is deprecated. Please use tf.compat.v1.train.Optimizer instead.\n",
      "\n",
      "Epoch 1/20\n",
      "WARNING:tensorflow:From C:\\Users\\33766\\anaconda3\\lib\\site-packages\\keras\\src\\utils\\tf_utils.py:492: The name tf.ragged.RaggedTensorValue is deprecated. Please use tf.compat.v1.ragged.RaggedTensorValue instead.\n",
      "\n",
      "235/235 [==============================] - 3s 7ms/step - loss: 0.4176 - val_loss: 0.3412\n",
      "Epoch 2/20\n",
      "235/235 [==============================] - 2s 7ms/step - loss: 0.3250 - val_loss: 0.3168\n",
      "Epoch 3/20\n",
      "235/235 [==============================] - 1s 6ms/step - loss: 0.3082 - val_loss: 0.3050\n",
      "Epoch 4/20\n",
      "235/235 [==============================] - 1s 6ms/step - loss: 0.2992 - val_loss: 0.2982\n",
      "Epoch 5/20\n",
      "235/235 [==============================] - 1s 6ms/step - loss: 0.2940 - val_loss: 0.2942\n",
      "Epoch 6/20\n",
      "235/235 [==============================] - 2s 7ms/step - loss: 0.2907 - val_loss: 0.2917\n",
      "Epoch 7/20\n",
      "235/235 [==============================] - 2s 7ms/step - loss: 0.2887 - val_loss: 0.2900\n",
      "Epoch 8/20\n",
      "235/235 [==============================] - 1s 6ms/step - loss: 0.2873 - val_loss: 0.2889\n",
      "Epoch 9/20\n",
      "235/235 [==============================] - 1s 6ms/step - loss: 0.2863 - val_loss: 0.2881\n",
      "Epoch 10/20\n",
      "235/235 [==============================] - 1s 6ms/step - loss: 0.2856 - val_loss: 0.2876\n",
      "Epoch 11/20\n",
      "235/235 [==============================] - 1s 6ms/step - loss: 0.2851 - val_loss: 0.2870\n",
      "Epoch 12/20\n",
      "235/235 [==============================] - 1s 6ms/step - loss: 0.2847 - val_loss: 0.2866\n",
      "Epoch 13/20\n",
      "235/235 [==============================] - 1s 6ms/step - loss: 0.2843 - val_loss: 0.2863\n",
      "Epoch 14/20\n",
      "235/235 [==============================] - 2s 7ms/step - loss: 0.2840 - val_loss: 0.2861\n",
      "Epoch 15/20\n",
      "235/235 [==============================] - 2s 7ms/step - loss: 0.2838 - val_loss: 0.2859\n",
      "Epoch 16/20\n",
      "235/235 [==============================] - 2s 6ms/step - loss: 0.2836 - val_loss: 0.2858\n",
      "Epoch 17/20\n",
      "235/235 [==============================] - 2s 7ms/step - loss: 0.2834 - val_loss: 0.2857\n",
      "Epoch 18/20\n",
      "235/235 [==============================] - 2s 7ms/step - loss: 0.2832 - val_loss: 0.2854\n",
      "Epoch 19/20\n",
      "235/235 [==============================] - 1s 6ms/step - loss: 0.2831 - val_loss: 0.2854\n",
      "Epoch 20/20\n",
      "235/235 [==============================] - 2s 7ms/step - loss: 0.2830 - val_loss: 0.2852\n"
     ]
    }
   ],
   "source": [
    "autoencoder.compile(optimizer='adam', loss='binary_crossentropy')\n",
    "nepochs = 20\n",
    "autoencoder_train = autoencoder.fit(x_train, x_train, epochs=nepochs, batch_size=256, shuffle=True, validation_data=(x_test,x_test))"
   ]
  },
  {
   "cell_type": "markdown",
   "id": "508598b0",
   "metadata": {},
   "source": [
    "Analysons les résultats de l'apprentissage et de l'évaluation de la performance du modèle :\n",
    "\n",
    "**La perte (Loss) :**\n",
    "<li>La fonction de perte,  diminue au fil des époques pour les ensembles d'entraînement et de validation. Cela indique que le modèle apprend à reconstruire les images d'entrée de manière de plus en plus précise.</li>\n",
    "\n",
    "**Apprentissage et validation :**\n",
    "<li>L'autoencodeur est entraîné sur 20 époques avec un lot de taille 256.\n",
    "La perte sur l'ensemble de validation (val_loss) est également en diminution, suggérant que le modèle ne surajuste pas aux données d'entraînement.</li>\n",
    "\n",
    "**Résultats :**\n",
    "<li>Après l'entraînement, l'autoencodeur devrait avoir appris à encoder les images d'entrée en une représentation de dimension réduite dans l'espace latent (32 dimensions dans ce cas).\n",
    "Le décodeur devrait alors être capable de reconstruire des images similaires à celles d'origine à partir de cette représentation réduite.</li>"
   ]
  },
  {
   "cell_type": "markdown",
   "id": "8c001539",
   "metadata": {},
   "source": [
    "**La courbe de training loss et de celle de validation loss en foction des époques pour visualiser la performance du modèle**"
   ]
  },
  {
   "cell_type": "code",
   "execution_count": 14,
   "id": "d7261506",
   "metadata": {
    "scrolled": false
   },
   "outputs": [
    {
     "data": {
      "image/png": "[encoded data removed]",
      "text/plain": [
       "<Figure size 640x480 with 1 Axes>"
      ]
     },
     "metadata": {},
     "output_type": "display_data"
    }
   ],
   "source": [
    "loss = autoencoder_train.history['loss']\n",
    "val_loss = autoencoder_train.history['val_loss']\n",
    "epochs = range(nepochs)\n",
    "plt.figure()\n",
    "plt.plot(epochs, loss, 'bo', label='Training Loss', color = \"black\")\n",
    "plt.plot(epochs, val_loss, 'b', label='Validation Loss',color = \"darkred\")\n",
    "plt.title('Losses')\n",
    "plt.legend()\n",
    "plt.show()\n",
    "\n"
   ]
  },
  {
   "cell_type": "code",
   "execution_count": 15,
   "id": "e907013d",
   "metadata": {},
   "outputs": [
    {
     "name": "stdout",
     "output_type": "stream",
     "text": [
      "Les deux losses convergent à des valeurs similaires. Le modèle s'ajuste équilibrément aux données.\n"
     ]
    }
   ],
   "source": [
    "# Vérification de la convergence\n",
    "if loss[-1] - val_loss[-1] < 0.01:\n",
    "    print(\"Les deux losses convergent à des valeurs similaires. Le modèle s'ajuste équilibrément aux données.\")\n",
    "else:\n",
    "    print(\"Les deux losses ne convergent pas à des valeurs similaires.\")"
   ]
  },
  {
   "cell_type": "markdown",
   "id": "69c4cd16",
   "metadata": {},
   "source": [
    "<h3>2.3 Analyse des résultats de l'autoencodage avec le modèle appris</h3>"
   ]
  },
  {
   "cell_type": "markdown",
   "id": "4ddb6d37",
   "metadata": {},
   "source": [
    "**Tester l'autoencodeur sur les images de test**"
   ]
  },
  {
   "cell_type": "code",
   "execution_count": 16,
   "id": "681bd54a",
   "metadata": {},
   "outputs": [
    {
     "name": "stdout",
     "output_type": "stream",
     "text": [
      "313/313 [==============================] - 1s 1ms/step\n",
      "313/313 [==============================] - 0s 1ms/step\n"
     ]
    }
   ],
   "source": [
    "# Encodage les images de test pour obtenir les codes dans l'espace latent\n",
    "encoded_imgs = encoder.predict(x_test)\n",
    "# Décoder ces codes pour obtenir les images reconstruites (decoded_imgs)\n",
    "decoded_imgs = decoder.predict(encoded_imgs)"
   ]
  },
  {
   "cell_type": "markdown",
   "id": "797ff650",
   "metadata": {},
   "source": [
    "**Visualiser les codes dans l'espace latent**"
   ]
  },
  {
   "cell_type": "code",
   "execution_count": 17,
   "id": "dab16cec",
   "metadata": {},
   "outputs": [
    {
     "data": {
      "image/png": "[encoded data removed]",
      "text/plain": [
       "<Figure size 2000x400 with 10 Axes>"
      ]
     },
     "metadata": {},
     "output_type": "display_data"
    }
   ],
   "source": [
    "n = 5\n",
    "plt.figure(figsize=(20, 4))\n",
    "for i in range(n):\n",
    "    \n",
    "    # Images originales\n",
    "    ax = plt.subplot(2, n, i+1)\n",
    "    plt.imshow(x_test[i].reshape(28,28))\n",
    "    plt.gray()\n",
    "    ax.get_xaxis().set_visible(False)\n",
    "    ax.get_yaxis().set_visible(False)\n",
    "    \n",
    "    # Images decodees\n",
    "    ax = plt.subplot(2, n, i+1+n)\n",
    "    plt.imshow(decoded_imgs[i].reshape(28,28))\n",
    "    plt.gray()\n",
    "    ax.get_xaxis().set_visible(False)\n",
    "    ax.get_yaxis().set_visible(False)\n",
    "\n",
    "plt.show()    "
   ]
  },
  {
   "cell_type": "markdown",
   "id": "982e02ef",
   "metadata": {},
   "source": [
    "Pour les n=5 premières images de l'ensemble de test. Chaque colonne représente une paire d'image originale et reconstruite.\n"
   ]
  },
  {
   "cell_type": "markdown",
   "id": "b910353a",
   "metadata": {},
   "source": [
    "**Calcul et Analyse le Structural Similarity Index Measurement (SSIM) et l'erreur quadratique moyenne (MSE) pour évaluer la qualité des images par rapport aux images d'entrée**"
   ]
  },
  {
   "cell_type": "code",
   "execution_count": 18,
   "id": "8862b55e",
   "metadata": {},
   "outputs": [],
   "source": [
    "from skimage.metrics import structural_similarity as ssim\n",
    "from sklearn.metrics import mean_squared_error as mse"
   ]
  },
  {
   "cell_type": "code",
   "execution_count": 19,
   "id": "887247fe",
   "metadata": {},
   "outputs": [
    {
     "data": {
      "image/png": "[encoded data removed]",
      "text/plain": [
       "<Figure size 640x480 with 1 Axes>"
      ]
     },
     "metadata": {},
     "output_type": "display_data"
    },
    {
     "name": "stdout",
     "output_type": "stream",
     "text": [
      "Valeurs de SSIM :  0.6943513369173591\n",
      "Valeurs de MSE :  0.009746606\n"
     ]
    }
   ],
   "source": [
    "# Calculer les SSIM et MSE pour chaque paire d'images\n",
    "ssim_values = []\n",
    "mse_values = []\n",
    "\n",
    "for i in range(len(x_test)):\n",
    "    # Comparaison entre image originale et image décodée\n",
    "    ssim_score, _ = ssim(x_test[i], decoded_imgs[i], full=True)\n",
    "    mse_score = mse(x_test[i].flatten(), decoded_imgs[i].flatten())\n",
    "    \n",
    "    # Ajouter aux listes\n",
    "    ssim_values.append(ssim_score)\n",
    "    mse_values.append(mse_score)\n",
    "\n",
    "# Analyse avec une boîte à moustaches\n",
    "plt.boxplot([ssim_values, mse_values], labels=['SSIM', 'MSE'])\n",
    "plt.title('Comparaison SSIM et MSE entre images originales et décodées')\n",
    "plt.show()\n",
    "\n",
    "print(\"Valeurs de SSIM : \" ,ssim_score)\n",
    "print(\"Valeurs de MSE : \", mse_score)"
   ]
  },
  {
   "cell_type": "markdown",
   "id": "bdc924b9",
   "metadata": {},
   "source": [
    "**SSIM (Structural Similarity Index Measurement) :** Les valeurs SSIM de 0,7 sont proches de 1, cela indique une similitude structurelle élevée entre les images originales et décodées.\n",
    "\n",
    "**MSE (Mean Squared Error) :** Des valeurs de MSE proches de zéro indiquent une reconstruction précise, car cela signifie que les pixels des images originales et décodées sont très similaires.\n",
    "\n",
    "**La Boîte à Moustaches :** La médiane de la boîte à moustaches est proche de 1 pour SSIM et proche de 0 pour MSE, cela suggère une bonne performance globale de l'autoencodeur.\n",
    "\n",
    "En résumé, la majorité des valeurs SSIM sont élevée et la majorité des valeurs de MSE sont basses, cela suggère que l'autoencodeur réussit généralement à reconstruire les images de l'ensemble de test."
   ]
  },
  {
   "cell_type": "markdown",
   "id": "68e68c3c",
   "metadata": {},
   "source": [
    "<h3>2.4 Paramétrage</h3>"
   ]
  },
  {
   "cell_type": "markdown",
   "id": "dfd0619b",
   "metadata": {},
   "source": [
    "**Infuence du nombre d'époques sur les résultats de décodage**"
   ]
  },
  {
   "cell_type": "code",
   "execution_count": 20,
   "id": "dedfda40",
   "metadata": {},
   "outputs": [
    {
     "name": "stdout",
     "output_type": "stream",
     "text": [
      "Epoch 1/40\n",
      "235/235 [==============================] - 2s 7ms/step - loss: 0.2829 - val_loss: 0.2851\n",
      "Epoch 2/40\n",
      "235/235 [==============================] - 1s 6ms/step - loss: 0.2828 - val_loss: 0.2851\n",
      "Epoch 3/40\n",
      "235/235 [==============================] - 1s 5ms/step - loss: 0.2827 - val_loss: 0.2849\n",
      "Epoch 4/40\n",
      "235/235 [==============================] - 2s 7ms/step - loss: 0.2826 - val_loss: 0.2848\n",
      "Epoch 5/40\n",
      "235/235 [==============================] - 2s 7ms/step - loss: 0.2825 - val_loss: 0.2848\n",
      "Epoch 6/40\n",
      "235/235 [==============================] - 1s 6ms/step - loss: 0.2824 - val_loss: 0.2848\n",
      "Epoch 7/40\n",
      "235/235 [==============================] - 1s 6ms/step - loss: 0.2824 - val_loss: 0.2847\n",
      "Epoch 8/40\n",
      "235/235 [==============================] - 2s 6ms/step - loss: 0.2823 - val_loss: 0.2847\n",
      "Epoch 9/40\n",
      "235/235 [==============================] - 2s 7ms/step - loss: 0.2823 - val_loss: 0.2846\n",
      "Epoch 10/40\n",
      "235/235 [==============================] - 2s 7ms/step - loss: 0.2822 - val_loss: 0.2845\n",
      "Epoch 11/40\n",
      "235/235 [==============================] - 1s 6ms/step - loss: 0.2822 - val_loss: 0.2844\n",
      "Epoch 12/40\n",
      "235/235 [==============================] - 1s 6ms/step - loss: 0.2821 - val_loss: 0.2844\n",
      "Epoch 13/40\n",
      "235/235 [==============================] - 1s 6ms/step - loss: 0.2820 - val_loss: 0.2844\n",
      "Epoch 14/40\n",
      "235/235 [==============================] - 2s 6ms/step - loss: 0.2820 - val_loss: 0.2843\n",
      "Epoch 15/40\n",
      "235/235 [==============================] - 1s 6ms/step - loss: 0.2820 - val_loss: 0.2843\n",
      "Epoch 16/40\n",
      "235/235 [==============================] - 1s 6ms/step - loss: 0.2819 - val_loss: 0.2842\n",
      "Epoch 17/40\n",
      "235/235 [==============================] - 1s 6ms/step - loss: 0.2819 - val_loss: 0.2842\n",
      "Epoch 18/40\n",
      "235/235 [==============================] - 1s 6ms/step - loss: 0.2819 - val_loss: 0.2842\n",
      "Epoch 19/40\n",
      "235/235 [==============================] - 1s 6ms/step - loss: 0.2818 - val_loss: 0.2842\n",
      "Epoch 20/40\n",
      "235/235 [==============================] - 1s 6ms/step - loss: 0.2818 - val_loss: 0.2842\n",
      "Epoch 21/40\n",
      "235/235 [==============================] - 1s 6ms/step - loss: 0.2818 - val_loss: 0.2841\n",
      "Epoch 22/40\n",
      "235/235 [==============================] - 1s 6ms/step - loss: 0.2818 - val_loss: 0.2842\n",
      "Epoch 23/40\n",
      "235/235 [==============================] - 2s 6ms/step - loss: 0.2817 - val_loss: 0.2841\n",
      "Epoch 24/40\n",
      "235/235 [==============================] - 1s 6ms/step - loss: 0.2817 - val_loss: 0.2840\n",
      "Epoch 25/40\n",
      "235/235 [==============================] - 1s 6ms/step - loss: 0.2817 - val_loss: 0.2841\n",
      "Epoch 26/40\n",
      "235/235 [==============================] - 1s 6ms/step - loss: 0.2817 - val_loss: 0.2840\n",
      "Epoch 27/40\n",
      "235/235 [==============================] - 1s 6ms/step - loss: 0.2817 - val_loss: 0.2840\n",
      "Epoch 28/40\n",
      "235/235 [==============================] - 1s 6ms/step - loss: 0.2816 - val_loss: 0.2841\n",
      "Epoch 29/40\n",
      "235/235 [==============================] - 1s 6ms/step - loss: 0.2816 - val_loss: 0.2841\n",
      "Epoch 30/40\n",
      "235/235 [==============================] - 1s 6ms/step - loss: 0.2816 - val_loss: 0.2840\n",
      "Epoch 31/40\n",
      "235/235 [==============================] - 2s 7ms/step - loss: 0.2816 - val_loss: 0.2840\n",
      "Epoch 32/40\n",
      "235/235 [==============================] - 1s 6ms/step - loss: 0.2815 - val_loss: 0.2840\n",
      "Epoch 33/40\n",
      "235/235 [==============================] - 1s 6ms/step - loss: 0.2815 - val_loss: 0.2839\n",
      "Epoch 34/40\n",
      "235/235 [==============================] - 1s 6ms/step - loss: 0.2815 - val_loss: 0.2839\n",
      "Epoch 35/40\n",
      "235/235 [==============================] - 1s 6ms/step - loss: 0.2815 - val_loss: 0.2839\n",
      "Epoch 36/40\n",
      "235/235 [==============================] - 1s 6ms/step - loss: 0.2815 - val_loss: 0.2838\n",
      "Epoch 37/40\n",
      "235/235 [==============================] - 1s 6ms/step - loss: 0.2815 - val_loss: 0.2839\n",
      "Epoch 38/40\n",
      "235/235 [==============================] - 1s 6ms/step - loss: 0.2815 - val_loss: 0.2839\n",
      "Epoch 39/40\n",
      "235/235 [==============================] - 1s 6ms/step - loss: 0.2814 - val_loss: 0.2838\n",
      "Epoch 40/40\n",
      "235/235 [==============================] - 1s 6ms/step - loss: 0.2814 - val_loss: 0.2838\n"
     ]
    }
   ],
   "source": [
    "# Je choisis une variable de nombre d'époque de 30\n",
    "nepochs = 40\n",
    "\n",
    "# Entraîner le modèles avec le nouveau nombre d'époques\n",
    "autoencoder_train = autoencoder.fit(x_train, x_train, epochs=nepochs, batch_size=256, shuffle=True, validation_data=(x_test, x_test))"
   ]
  },
  {
   "cell_type": "markdown",
   "id": "e7fe99a6",
   "metadata": {},
   "source": [
    "La comparaison entre l'entraînement du modèle avec 20 époques et celui avec 40 époques.\n",
    "\n",
    "**1. Entraînement avec 20 époques:**\n",
    "- Perte d'entraînement de deuxième époque : 0.4142\n",
    "- Perte d'validation  de deuxième époque : 0.3417\n",
    "- Perte d'entraînement finale (époque 20): 0.2826\n",
    "- Perte de validation finale (époque 20): 0.2849\n",
    "\n",
    "**2. Entraînement avec 40 époques:**\n",
    "- Perte d'entraînement initiale (époque 1): 0.2827\n",
    "- Perte de validation initiale (époque 1): 0.2849\n",
    "- Perte d'entraînement finale (époque 40): 0.2812\n",
    "- Perte de validation finale (époque 40): 0.2836\n",
    "\n",
    "COMMENTAIRES :\n",
    "\n",
    "**Perte d'entraînement:**\n",
    "   - La perte d'entraînement diminue progressivement à chaque époque, indiquant que le modèle apprend bien à reconstruire les images d'entraînement.\n",
    "\n",
    "**Perte de validation:**\n",
    "   - La perte de validation suit une tendance similaire à la perte d'entraînement, montrant que le modèle généralise bien aux données non vues.\n",
    "\n",
    "**Comparaison entre 20 et 40 époques:**\n",
    "   - La différence entre les performances du modèle avec 20 et 40 époques est relativement faible.\n",
    "   - La perte de validation à la 40e époque (0.2836) est légèrement inférieure à celle de la 20e époque (0.2849).\n",
    "   - Cependant, la diminution de la perte est limitée après un certain nombre d'époques, ce qui suggère un rendement décroissant.\n",
    "\n",
    "**Temps d'entraînement:**\n",
    "   - Il est important de noter que l'entraînement avec 40 époques prend plus de temps que celui avec 20 époques."
   ]
  },
  {
   "cell_type": "code",
   "execution_count": 21,
   "id": "6aa42520",
   "metadata": {},
   "outputs": [
    {
     "data": {
      "image/png": "[encoded data removed]",
      "text/plain": [
       "<Figure size 640x480 with 1 Axes>"
      ]
     },
     "metadata": {},
     "output_type": "display_data"
    }
   ],
   "source": [
    "# Visualisation des courbes de loss\n",
    "loss = autoencoder_train.history['loss']\n",
    "val_loss = autoencoder_train.history['val_loss']\n",
    "epochs = range(nepochs)\n",
    "plt.figure()\n",
    "plt.plot(epochs, loss, 'bo', label='Training Loss', color=\"black\")\n",
    "plt.plot(epochs, val_loss, 'b', label='Validation Loss', color=\"darkred\")\n",
    "plt.title('Losses')\n",
    "plt.legend()\n",
    "plt.show()"
   ]
  },
  {
   "cell_type": "markdown",
   "id": "9a7a9d2e",
   "metadata": {},
   "source": [
    "<strong>Équilibre entre Training et Validation Loss : </strong>À la dernière époque, la valeur de val_loss (0.283) est légèrement plus élevée que celle de loss (0.281). Cela indique que le modèle peut être légèrement surajusté aux données d'apprentissage, mais la différence est relativement petite.\n",
    "\n",
    "<strong>Performance Globale : </strong>Les valeurs de loss et val_loss sont toutes deux assez basses, indiquant une bonne performance générale du modèle dans la reconstruction des images.\n",
    "\n",
    "<strong>Stabilité de la Convergence :</strong> La stabilité des courbes de loss et val_loss suggère que le modèle a atteint une certaine stabilité dans l'apprentissage."
   ]
  },
  {
   "cell_type": "markdown",
   "id": "50da7c3f",
   "metadata": {},
   "source": [
    "**Influence de la taille du code dans l'espace latent sur les résultats de décodage**"
   ]
  },
  {
   "cell_type": "code",
   "execution_count": 22,
   "id": "a3e579e6",
   "metadata": {},
   "outputs": [
    {
     "name": "stdout",
     "output_type": "stream",
     "text": [
      "Epoch 1/20\n",
      "235/235 [==============================] - 2s 7ms/step - loss: 0.3917 - val_loss: 0.3268\n",
      "Epoch 2/20\n",
      "235/235 [==============================] - 1s 6ms/step - loss: 0.3121 - val_loss: 0.3048\n",
      "Epoch 3/20\n",
      "235/235 [==============================] - 2s 7ms/step - loss: 0.2965 - val_loss: 0.2939\n",
      "Epoch 4/20\n",
      "235/235 [==============================] - 2s 7ms/step - loss: 0.2883 - val_loss: 0.2878\n",
      "Epoch 5/20\n",
      "235/235 [==============================] - 2s 7ms/step - loss: 0.2836 - val_loss: 0.2841\n",
      "Epoch 6/20\n",
      "235/235 [==============================] - 2s 6ms/step - loss: 0.2806 - val_loss: 0.2816\n",
      "Epoch 7/20\n",
      "235/235 [==============================] - 2s 7ms/step - loss: 0.2784 - val_loss: 0.2799\n",
      "Epoch 8/20\n",
      "235/235 [==============================] - 2s 7ms/step - loss: 0.2769 - val_loss: 0.2786\n",
      "Epoch 9/20\n",
      "235/235 [==============================] - 1s 6ms/step - loss: 0.2757 - val_loss: 0.2775\n",
      "Epoch 10/20\n",
      "235/235 [==============================] - 1s 6ms/step - loss: 0.2749 - val_loss: 0.2767\n",
      "Epoch 11/20\n",
      "235/235 [==============================] - 2s 7ms/step - loss: 0.2742 - val_loss: 0.2763\n",
      "Epoch 12/20\n",
      "235/235 [==============================] - 1s 6ms/step - loss: 0.2736 - val_loss: 0.2756\n",
      "Epoch 13/20\n",
      "235/235 [==============================] - 2s 7ms/step - loss: 0.2732 - val_loss: 0.2754\n",
      "Epoch 14/20\n",
      "235/235 [==============================] - 2s 7ms/step - loss: 0.2728 - val_loss: 0.2749\n",
      "Epoch 15/20\n",
      "235/235 [==============================] - 2s 7ms/step - loss: 0.2724 - val_loss: 0.2746\n",
      "Epoch 16/20\n",
      "235/235 [==============================] - 2s 7ms/step - loss: 0.2722 - val_loss: 0.2744\n",
      "Epoch 17/20\n",
      "235/235 [==============================] - 2s 7ms/step - loss: 0.2719 - val_loss: 0.2742\n",
      "Epoch 18/20\n",
      "235/235 [==============================] - 2s 7ms/step - loss: 0.2717 - val_loss: 0.2741\n",
      "Epoch 19/20\n",
      "235/235 [==============================] - 1s 6ms/step - loss: 0.2715 - val_loss: 0.2738\n",
      "Epoch 20/20\n",
      "235/235 [==============================] - 2s 6ms/step - loss: 0.2714 - val_loss: 0.2738\n"
     ]
    }
   ],
   "source": [
    "# Modifier la variable taille_code de 64\n",
    "taille_code = 64  \n",
    "\n",
    "# Recréer le modèle avec la nouvelle taille du code latent\n",
    "input_img = Input(shape=(784,))\n",
    "encoded = Dense(taille_code, activation='relu')(input_img)\n",
    "decoded = Dense(784, activation='sigmoid')(encoded)\n",
    "autoencoder = Model(input_img, decoded)\n",
    "\n",
    "# Recréer le modèle d'encodeur et de décodeur\n",
    "encoder = Model(input_img, encoded)\n",
    "encoded_input = Input(shape=(taille_code,))\n",
    "decoder_layer = autoencoder.layers[-1]\n",
    "decoder = Model(encoded_input, decoder_layer(encoded_input))\n",
    "\n",
    "# Entraîner le modèle avec la nouvelle taille du code latent\n",
    "autoencoder.compile(optimizer='adam', loss='binary_crossentropy')\n",
    "autoencoder_train = autoencoder.fit(x_train, x_train, epochs=20, batch_size=256, shuffle=True, validation_data=(x_test, x_test))\n"
   ]
  },
  {
   "cell_type": "markdown",
   "id": "09b9f247",
   "metadata": {},
   "source": [
    "Comparaison entre la taille du code latent de 32 et 64 avec le même nombre d'époques (20):\n",
    "\n",
    "**1. Taille du code latent = 32:**\n",
    "\n",
    "Perte d'entraînement initiale (époque 1): 0.4142\n",
    "Perte de validation initiale (époque 1): 0.3417\n",
    "Perte d'entraînement finale (époque 20): 0.2826\n",
    "Perte de validation finale (époque 20): 0.2848\n",
    "\n",
    "**2. Taille du code latent = 64:**\n",
    "\n",
    "Perte d'entraînement initiale (époque 1): 0.3916\n",
    "Perte de validation initiale (époque 1): 0.3283\n",
    "Perte d'entraînement finale (époque 20): 0.2716\n",
    "Perte de validation finale (époque 20): 0.2738\n",
    "\n",
    "Commentaires:\n",
    "\n",
    "**Perte d'entraînement:**\n",
    "La perte d'entraînement diminue pour les deux tailles du code latent au fil des époques, indiquant que le modèle apprend bien à reconstruire les images d'entraînement.\n",
    "\n",
    "**Perte de validation:**\n",
    "La perte de validation suit également une tendance à la baisse pour les deux tailles du code latent, montrant que le modèle généralise bien aux données non vues.\n",
    "\n",
    "**Comparaison entre 32 et 64:**\n",
    "La perte d'entraînement et de validation est généralement plus basse lorsque la taille du code latent est augmentée de 32 à 64.\n",
    "Cela suggère que le modèle avec une taille de code latent de 64 a une meilleure capacité à représenter les caractéristiques importantes des données d'entrée.\n",
    "\n",
    "**Influence de la taille du code latent:**\n",
    "Une taille de code latent plus grande permet généralement de capturer des informations plus complexes et détaillées, ce qui peut conduire à une meilleure reconstruction des images."
   ]
  },
  {
   "cell_type": "code",
   "execution_count": 23,
   "id": "685c55b5",
   "metadata": {},
   "outputs": [
    {
     "data": {
      "image/png": "[encoded data removed]",
      "text/plain": [
       "<Figure size 640x480 with 1 Axes>"
      ]
     },
     "metadata": {},
     "output_type": "display_data"
    }
   ],
   "source": [
    "# Visualisation des courbes de loss\n",
    "loss = autoencoder_train.history['loss']\n",
    "val_loss = autoencoder_train.history['val_loss']\n",
    "epochs = range(20)  \n",
    "plt.figure()\n",
    "plt.plot(epochs, loss, 'bo', label='Training Loss', color=\"black\")\n",
    "plt.plot(epochs, val_loss, 'b', label='Validation Loss', color=\"darkred\")\n",
    "plt.title('Losses')\n",
    "plt.legend()\n",
    "plt.show()"
   ]
  },
  {
   "cell_type": "markdown",
   "id": "ee054152",
   "metadata": {},
   "source": [
    "<h2>3. Autoencodeur profond</h2>"
   ]
  },
  {
   "cell_type": "markdown",
   "id": "be4504f0",
   "metadata": {},
   "source": [
    "<h3>3.1 Définition du modèle</h3>"
   ]
  },
  {
   "cell_type": "code",
   "execution_count": 24,
   "id": "42dbd17e",
   "metadata": {},
   "outputs": [],
   "source": [
    "#Assuming input_img is a flattened image of size 784 (28*28)\n",
    "input_img = Input(shape=(784,))\n",
    "\n",
    "#Encoding layers (Couches cachées)\n",
    "encoded = Dense(128, activation='relu')(input_img)\n",
    "encoded = Dense(64, activation='relu')(encoded)\n",
    "encoded = Dense(32, activation='relu')(encoded)  # Latent space representation\n",
    "\n",
    "#Decoding layers (Couche de sortie)\n",
    "decoded = Dense(64, activation='relu')(encoded)\n",
    "decoded = Dense(128, activation='relu')(decoded)\n",
    "decoded = Dense(784, activation='sigmoid')(decoded)  "
   ]
  },
  {
   "cell_type": "markdown",
   "id": "6eb49d02",
   "metadata": {},
   "source": [
    "**Configurer l'autoencodeur et visualiser la configuration du réseau**"
   ]
  },
  {
   "cell_type": "code",
   "execution_count": 25,
   "id": "bbe78a26",
   "metadata": {},
   "outputs": [
    {
     "name": "stdout",
     "output_type": "stream",
     "text": [
      "Model: \"model_6\"\n",
      "_________________________________________________________________\n",
      " Layer (type)                Output Shape              Param #   \n",
      "=================================================================\n",
      " input_5 (InputLayer)        [(None, 784)]             0         \n",
      "                                                                 \n",
      " dense_4 (Dense)             (None, 128)               100480    \n",
      "                                                                 \n",
      " dense_5 (Dense)             (None, 64)                8256      \n",
      "                                                                 \n",
      " dense_6 (Dense)             (None, 32)                2080      \n",
      "                                                                 \n",
      " dense_7 (Dense)             (None, 64)                2112      \n",
      "                                                                 \n",
      " dense_8 (Dense)             (None, 128)               8320      \n",
      "                                                                 \n",
      " dense_9 (Dense)             (None, 784)               101136    \n",
      "                                                                 \n",
      "=================================================================\n",
      "Total params: 222384 (868.69 KB)\n",
      "Trainable params: 222384 (868.69 KB)\n",
      "Non-trainable params: 0 (0.00 Byte)\n",
      "_________________________________________________________________\n"
     ]
    }
   ],
   "source": [
    "# Modèle de l'autoencodeur\n",
    "autoencoder = Model(input_img, decoded)\n",
    "\n",
    "# Afficher la configuration du réseau\n",
    "autoencoder.summary()"
   ]
  },
  {
   "cell_type": "markdown",
   "id": "36a051c3",
   "metadata": {},
   "source": [
    "L'autoencodeur suit une architecture similaire à la Figure 2, avec trois couches d'encodage (couches cachées) et trois couches de décodage (couche de sortie). Analysons le résultat de l'autoencodeur en utilisant la fonction autoencoder.summary() :\n",
    "\n",
    "<p><strong>Input Layer (couche d'entrée):</strong>\n",
    "    <li>Forme de sortie : (None, 784)</li>\n",
    "    <li>Nombre de paramètres : 0 (car c'est la couche d'entrée)</li>\n",
    "</p>\n",
    "\n",
    "<p><strong>Couches d'Encodage (encoded) :</strong>\n",
    "    <li>Dense_4 (128 neurones) : Forme de sortie (None, 128), Paramètres = 784 * 128 + 128 = 100,480</li>\n",
    "    <li>Dense_5 (64 neurones) : Forme de sortie (None, 64), Paramètres = 128 * 64 + 64 = 8,256</li>\n",
    "    <li>Dense_6 (32 neurones) : Forme de sortie (None, 32), Paramètres = 64 * 32 + 32 = 2,080</li>\n",
    "</p>\n",
    "\n",
    "<p><strong>Couche de Latent :</strong>\n",
    "    <li>La couche Dense_26 avec 32 neurones représente l'espace latent. C'est ici que l'information est compressée.</li>\n",
    "</p>\n",
    "\n",
    "<p><strong>Couches de Décodage (decoded) :</strong>\n",
    "    <li>Dense_7 (64 neurones) : Forme de sortie (None, 64), Paramètres = 32 * 64 + 64 = 2,112</li>\n",
    "    <li>Dense_8 (128 neurones) : Forme de sortie (None, 128), Paramètres = 64 * 128 + 128 = 8,320</li>\n",
    "    <li>Dense_9 (784 neurones) : Forme de sortie (None, 784), Paramètres = 128 * 784 + 784 = 101,136</li>\n",
    "</p>\n",
    "\n",
    "<p><strong>Total des Paramètres :</strong>\n",
    "Total des paramètres du modèle : 222,384\n",
    "</p>\n",
    "\n",
    "<p><strong>Trainable Params :</strong>\n",
    "Paramètres entraînables : 222,384 \n",
    "</p>\n",
    "\n",
    "En analysant ces résultats, on peut voir que le modèle a une architecture qui comprime l'information à travers les couches d'encodage (128, 64, 32) jusqu'à la couche de l'espace latent, puis la décode à travers les couches de décodage (64, 128, 784). Le modèle a une capacité de reconstruction des données d'entrée après compression dans l'espace latent."
   ]
  },
  {
   "cell_type": "markdown",
   "id": "9899a96d",
   "metadata": {},
   "source": [
    "<h3>3.2 Apprentissage</h3>"
   ]
  },
  {
   "cell_type": "code",
   "execution_count": 26,
   "id": "1a178646",
   "metadata": {},
   "outputs": [
    {
     "name": "stdout",
     "output_type": "stream",
     "text": [
      "Epoch 1/50\n",
      "235/235 [==============================] - 3s 9ms/step - loss: 0.3791 - val_loss: 0.3194\n",
      "Epoch 2/50\n",
      "235/235 [==============================] - 2s 9ms/step - loss: 0.3113 - val_loss: 0.3074\n",
      "Epoch 3/50\n",
      "235/235 [==============================] - 2s 9ms/step - loss: 0.3023 - val_loss: 0.3027\n",
      "Epoch 4/50\n",
      "235/235 [==============================] - 2s 9ms/step - loss: 0.2969 - val_loss: 0.2969\n",
      "Epoch 5/50\n",
      "235/235 [==============================] - 2s 8ms/step - loss: 0.2935 - val_loss: 0.2947\n",
      "Epoch 6/50\n",
      "235/235 [==============================] - 2s 9ms/step - loss: 0.2911 - val_loss: 0.2933\n",
      "Epoch 7/50\n",
      "235/235 [==============================] - 2s 8ms/step - loss: 0.2892 - val_loss: 0.2905\n",
      "Epoch 8/50\n",
      "235/235 [==============================] - 2s 8ms/step - loss: 0.2879 - val_loss: 0.2896\n",
      "Epoch 9/50\n",
      "235/235 [==============================] - 2s 9ms/step - loss: 0.2867 - val_loss: 0.2882\n",
      "Epoch 10/50\n",
      "235/235 [==============================] - 2s 8ms/step - loss: 0.2856 - val_loss: 0.2875\n",
      "Epoch 11/50\n",
      "235/235 [==============================] - 2s 8ms/step - loss: 0.2847 - val_loss: 0.2866\n",
      "Epoch 12/50\n",
      "235/235 [==============================] - 2s 8ms/step - loss: 0.2839 - val_loss: 0.2857\n",
      "Epoch 13/50\n",
      "235/235 [==============================] - 2s 8ms/step - loss: 0.2830 - val_loss: 0.2850\n",
      "Epoch 14/50\n",
      "235/235 [==============================] - 2s 8ms/step - loss: 0.2825 - val_loss: 0.2843\n",
      "Epoch 15/50\n",
      "235/235 [==============================] - 2s 9ms/step - loss: 0.2817 - val_loss: 0.2839\n",
      "Epoch 16/50\n",
      "235/235 [==============================] - 2s 9ms/step - loss: 0.2811 - val_loss: 0.2832\n",
      "Epoch 17/50\n",
      "235/235 [==============================] - 2s 8ms/step - loss: 0.2806 - val_loss: 0.2827\n",
      "Epoch 18/50\n",
      "235/235 [==============================] - 2s 9ms/step - loss: 0.2801 - val_loss: 0.2824\n",
      "Epoch 19/50\n",
      "235/235 [==============================] - 2s 8ms/step - loss: 0.2797 - val_loss: 0.2818\n",
      "Epoch 20/50\n",
      "235/235 [==============================] - 2s 8ms/step - loss: 0.2793 - val_loss: 0.2816\n",
      "Epoch 21/50\n",
      "235/235 [==============================] - 2s 8ms/step - loss: 0.2790 - val_loss: 0.2813\n",
      "Epoch 22/50\n",
      "235/235 [==============================] - 2s 8ms/step - loss: 0.2786 - val_loss: 0.2820\n",
      "Epoch 23/50\n",
      "235/235 [==============================] - 2s 8ms/step - loss: 0.2782 - val_loss: 0.2805\n",
      "Epoch 24/50\n",
      "235/235 [==============================] - 2s 9ms/step - loss: 0.2779 - val_loss: 0.2802\n",
      "Epoch 25/50\n",
      "235/235 [==============================] - 2s 8ms/step - loss: 0.2777 - val_loss: 0.2803\n",
      "Epoch 26/50\n",
      "235/235 [==============================] - 2s 9ms/step - loss: 0.2773 - val_loss: 0.2796\n",
      "Epoch 27/50\n",
      "235/235 [==============================] - 2s 8ms/step - loss: 0.2771 - val_loss: 0.2797\n",
      "Epoch 28/50\n",
      "235/235 [==============================] - 2s 9ms/step - loss: 0.2769 - val_loss: 0.2792\n",
      "Epoch 29/50\n",
      "235/235 [==============================] - 2s 9ms/step - loss: 0.2766 - val_loss: 0.2791\n",
      "Epoch 30/50\n",
      "235/235 [==============================] - 2s 8ms/step - loss: 0.2764 - val_loss: 0.2786\n",
      "Epoch 31/50\n",
      "235/235 [==============================] - 2s 8ms/step - loss: 0.2762 - val_loss: 0.2787\n",
      "Epoch 32/50\n",
      "235/235 [==============================] - 2s 8ms/step - loss: 0.2760 - val_loss: 0.2784\n",
      "Epoch 33/50\n",
      "235/235 [==============================] - 2s 7ms/step - loss: 0.2759 - val_loss: 0.2780\n",
      "Epoch 34/50\n",
      "235/235 [==============================] - 2s 7ms/step - loss: 0.2756 - val_loss: 0.2780\n",
      "Epoch 35/50\n",
      "235/235 [==============================] - 2s 8ms/step - loss: 0.2755 - val_loss: 0.2785\n",
      "Epoch 36/50\n",
      "235/235 [==============================] - 2s 9ms/step - loss: 0.2753 - val_loss: 0.2777\n",
      "Epoch 37/50\n",
      "235/235 [==============================] - 2s 9ms/step - loss: 0.2751 - val_loss: 0.2774\n",
      "Epoch 38/50\n",
      "235/235 [==============================] - 2s 9ms/step - loss: 0.2749 - val_loss: 0.2774\n",
      "Epoch 39/50\n",
      "235/235 [==============================] - 2s 9ms/step - loss: 0.2748 - val_loss: 0.2774\n",
      "Epoch 40/50\n",
      "235/235 [==============================] - 2s 8ms/step - loss: 0.2746 - val_loss: 0.2773\n",
      "Epoch 41/50\n",
      "235/235 [==============================] - 2s 8ms/step - loss: 0.2745 - val_loss: 0.2769\n",
      "Epoch 42/50\n",
      "235/235 [==============================] - 2s 9ms/step - loss: 0.2744 - val_loss: 0.2766\n",
      "Epoch 43/50\n",
      "235/235 [==============================] - 2s 9ms/step - loss: 0.2742 - val_loss: 0.2766\n",
      "Epoch 44/50\n",
      "235/235 [==============================] - 2s 9ms/step - loss: 0.2741 - val_loss: 0.2769\n",
      "Epoch 45/50\n",
      "235/235 [==============================] - 2s 10ms/step - loss: 0.2740 - val_loss: 0.2767\n",
      "Epoch 46/50\n",
      "235/235 [==============================] - 2s 9ms/step - loss: 0.2739 - val_loss: 0.2763\n",
      "Epoch 47/50\n",
      "235/235 [==============================] - 2s 10ms/step - loss: 0.2738 - val_loss: 0.2764\n",
      "Epoch 48/50\n",
      "235/235 [==============================] - 2s 9ms/step - loss: 0.2736 - val_loss: 0.2761\n",
      "Epoch 49/50\n",
      "235/235 [==============================] - 2s 9ms/step - loss: 0.2736 - val_loss: 0.2765\n",
      "Epoch 50/50\n",
      "235/235 [==============================] - 2s 9ms/step - loss: 0.2735 - val_loss: 0.2762\n"
     ]
    }
   ],
   "source": [
    "autoencoder.compile (optimizer='adam' , loss='binary_crossentropy' )\n",
    "nepochs=50\n",
    "autoencoder_train=autoencoder.fit(x_train,x_train,epochs=nepochs ,\n",
    "batch_size=256, shuffle=True , validation_data =(x_test , x_test ))"
   ]
  },
  {
   "cell_type": "markdown",
   "id": "5c0ea6e4",
   "metadata": {},
   "source": [
    "Le modèle a été entraîné sur la base d'entraînement FashionMNIST pendant 50 époques avec l'optimiseur Adam et une perte d'entropie croisée binaire par pixel. \n",
    "\n",
    "<p><strong>Fonction de Perte (Loss) :</strong>\n",
    "La fonction de perte (binary_crossentropy) diminue au fil des époques, ce qui indique que le modèle apprend à reconstruire les images d'entrée de manière plus efficace.</p>\n",
    "\n",
    "<p><strong>Évolution de la Perte sur les Données d'Entraînement et de Validation :</strong>\n",
    "La perte sur les données d'entraînement (loss) diminue progressivement, atteignant 0.2735 à la 50e époque.\n",
    "La perte sur les données de validation (val_loss) suit également une tendance similaire, indiquant que le modèle généralise bien sur de nouvelles données.</p>\n",
    "\n",
    "<p><strong>Stabilité de l'Apprentissage :</strong>\n",
    "L'entraînement semble stable, avec des valeurs de perte cohérentes entre les données d'entraînement et de validation. Cela suggère que le modèle ne souffre pas de surapprentissage significatif.</p>\n",
    "\n",
    "<p><strong>Temps d'Entraînement :</strong>\n",
    "Chaque époque prend environ 2 secondes, ce qui est relativement rapide. Le temps d'entraînement peut varier en fonction de la complexité du modèle et des ressources matérielles utilisées.</p>"
   ]
  },
  {
   "cell_type": "markdown",
   "id": "01dca0ef",
   "metadata": {},
   "source": [
    "<h3>3.3 Analyse des résultats de l'autoencodage avec le modèle appris</h3>"
   ]
  },
  {
   "cell_type": "code",
   "execution_count": 27,
   "id": "b5cd40a6",
   "metadata": {},
   "outputs": [
    {
     "data": {
      "image/png": "[encoded data removed]",
      "text/plain": [
       "<Figure size 800x500 with 1 Axes>"
      ]
     },
     "metadata": {},
     "output_type": "display_data"
    }
   ],
   "source": [
    "training_loss = autoencoder_train.history['loss']\n",
    "validation_loss = autoencoder_train.history['val_loss']\n",
    "epochs_range = range(1, nepochs + 1)\n",
    "\n",
    "plt.figure(figsize=(8, 5))\n",
    "plt.plot(epochs_range, training_loss, 'bo-', label='Training Loss')\n",
    "plt.plot(epochs_range, validation_loss, 'r-', label='Validation Loss')\n",
    "plt.title('Loss et de Validation Loss au fil des époques')\n",
    "plt.xlabel('Epochs')\n",
    "plt.ylabel('Loss')\n",
    "plt.legend()\n",
    "plt.show()"
   ]
  },
  {
   "cell_type": "markdown",
   "id": "f3e47a34",
   "metadata": {},
   "source": [
    "Les courbes de perte d'entraînement et de validation pour un autoencodeur sur 50 époques. Nous observons une diminution rapide de la perte au cours des premières époques, après quoi les deux courbes semblent se stabiliser. La courbe de validation suit étroitement la courbe d'entraînement, ce qui est généralement un bon signe indiquant que le modèle généralise bien et n'est pas en train de surajuster. La convergence des deux courbes suggère que la qualité du modèle est cohérente à la fois sur les données d'entraînement et sur les données de validation."
   ]
  },
  {
   "cell_type": "code",
   "execution_count": 28,
   "id": "8a44bea6",
   "metadata": {},
   "outputs": [
    {
     "data": {
      "image/png": "[encoded data removed]",
      "text/plain": [
       "<Figure size 640x480 with 1 Axes>"
      ]
     },
     "metadata": {},
     "output_type": "display_data"
    },
    {
     "name": "stdout",
     "output_type": "stream",
     "text": [
      "Valeurs de SSIM :  0.6943513369173591\n",
      "Valeurs de MSE :  0.009746606\n"
     ]
    }
   ],
   "source": [
    "# Calculer les SSIM et MSE pour chaque paire d'images\n",
    "ssim_values = []\n",
    "mse_values = []\n",
    "\n",
    "for i in range(len(x_test)):\n",
    "    # Comparaison entre image originale et image décodée\n",
    "    ssim_score, _ = ssim(x_test[i], decoded_imgs[i], full=True)\n",
    "    mse_score = mse(x_test[i].flatten(), decoded_imgs[i].flatten())\n",
    "    \n",
    "    # Ajouter aux listes\n",
    "    ssim_values.append(ssim_score)\n",
    "    mse_values.append(mse_score)\n",
    "\n",
    "# Analyse avec une boîte à moustaches\n",
    "plt.boxplot([ssim_values, mse_values], labels=['SSIM', 'MSE'])\n",
    "plt.title('Comparaison SSIM et MSE entre images originales et décodées')\n",
    "plt.show()\n",
    "\n",
    "print(\"Valeurs de SSIM : \" ,ssim_score)\n",
    "print(\"Valeurs de MSE : \", mse_score)"
   ]
  },
  {
   "cell_type": "markdown",
   "id": "c2ec3505",
   "metadata": {},
   "source": [
    "<strong>Évaluation des Résultats avec SSIM et MSE :</strong>\n",
    "Les valeurs de SSIM (Structural Similarity Index Measurement) sont proches de 1, indiquant une similitude structurelle élevée entre les images originales et décodées.\n",
    "Les valeurs de MSE (Mean Squared Error) sont proches de zéro, ce qui indique une reconstruction précise, car cela signifie que les pixels des images originales et décodées sont très similaires.\n",
    "\n",
    "<strong>Comparaison avec l'Autoencodeur à une Seule Couche Cachée :</strong>\n",
    "<li>Valeurs de SSIM :  0.6890816158084749</li>\n",
    "<li>Valeurs de MSE :  0.010080552</li>\n",
    "<li>==></li>\n",
    "<li>Valeurs de SSIM : moyenne élevée</li>\n",
    "<li>Valeurs de MSE : moyenne basse</li>\n",
    "\n"
   ]
  },
  {
   "cell_type": "markdown",
   "id": "ef489586",
   "metadata": {},
   "source": [
    "**Tester modèle**"
   ]
  },
  {
   "cell_type": "code",
   "execution_count": 29,
   "id": "444c01fb",
   "metadata": {},
   "outputs": [
    {
     "name": "stdout",
     "output_type": "stream",
     "text": [
      "313/313 [==============================] - 1s 2ms/step\n"
     ]
    }
   ],
   "source": [
    "decoded_imgs = autoencoder.predict(x_test)"
   ]
  },
  {
   "cell_type": "markdown",
   "id": "3e1024ed",
   "metadata": {},
   "source": [
    "**Autoencodeur à une Seule Couche Cachée :**\n",
    "Temps d'exécution : environ 1s\n",
    "Résultats de reconstruction : decoded_imgs\n",
    "\n",
    "**Autoencodeur avec 5 Couches Cachées :**\n",
    "Temps d'exécution : environ 1s\n",
    "Résultats de reconstruction : decoded_imgs\n",
    "\n",
    "Les deux modèles semblent fournir des résultats de reconstruction en un temps d'exécution similaire.\n",
    "Le choix entre ces modèles dépendra d'autres considérations telles que la complexité du modèle, le nombre de paramètres, et la performance spécifique."
   ]
  }
 ],
 "metadata": {
  "kernelspec": {
   "display_name": "Python 3 (ipykernel)",
   "language": "python",
   "name": "python3"
  },
  "language_info": {
   "codemirror_mode": {
    "name": "ipython",
    "version": 3
   },
   "file_extension": ".py",
   "mimetype": "text/x-python",
   "name": "python",
   "nbconvert_exporter": "python",
   "pygments_lexer": "ipython3",
   "version": "3.9.18"
  }
 },
 "nbformat": 4,
 "nbformat_minor": 5
}
